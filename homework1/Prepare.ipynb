{
 "cells": [
  {
   "cell_type": "code",
   "execution_count": 1,
   "outputs": [],
   "source": [
    "#############################################################################\n",
    "# this is the practice for how to do the logistic-regression\n",
    "\n",
    "# In this practice, I need you master the following target\n",
    "##############################################################################\n"
   ],
   "metadata": {
    "collapsed": false,
    "pycharm": {
     "name": "#%%\n",
     "is_executing": false
    }
   }
  },
  {
   "cell_type": "code",
   "execution_count": null,
   "outputs": [],
   "source": [
    "\n",
    "# Practice I: Numpy Practice\n",
    "import numpy as np\n",
    "\n",
    "# Please input your code here\n",
    "# Implement a generator use numpy \n",
    "# 1.1 Requirement: X matrix (50, 50), dytpe: float32. You can use np.random. \n",
    "\n",
    "pass  # replace pass with your code here\n",
    "\n",
    "# 1.2 Requirement: matrix multiply: generate randomly X (4,2) Y (2, 3) get the matrix multiply using numpy\n",
    "# You can use np.dot\n",
    "\n",
    "pass  # replace pass with your code here\n",
    "\n",
    "# 1.3 Requirement: Randomly choose the indices from a matrix. For example, I want to choose the row [1, 3, 5] in a \n",
    "# 10 * 10 matrix . And I want to choose [1, 3, 5] column in an 10 * 10 matrix\n",
    "# Try to randomly generate the matrix X (10, 10) and do that\n",
    "\n",
    "pass  # replace pass with your code here\n",
    "\n",
    "# 1.4 Requirement: Recognize matrix shape: please print the shape of a matrix X [4, 3] using np.shape\n",
    "# Reshape the X to 1 dimension. The definition of dimension is like this: If the shape X is [4, 3], then\n",
    "# X is 3-dimension (related to the column number), think about using np.ravel or np.reshape(1, -1)\n",
    "# Finally, reshape X to [3, 4] matrix\n",
    "\n",
    "pass  # replace pass with your code here\n",
    "\n",
    "# 1.5 Please count the max, min and mean for a numpy\n",
    "\n",
    "# please generate X (10, 10)\n",
    "\n",
    "# For each column of X please find the max value np.max\n",
    "pass  # replace pass with your code here\n",
    "# For each column of X please count the mean\n",
    "pass  # replace pass with your code here\n",
    "\n",
    "# 1.6 Do the normalization Please take a look at how to do Z-normalization (You can google search this)\n",
    "# And try to implement a normalization using numpy\n",
    "pass  # replace pass with your code here\n",
    "\n"
   ],
   "metadata": {
    "collapsed": false,
    "pycharm": {
     "name": "#%%\n"
    }
   }
  },
  {
   "cell_type": "code",
   "execution_count": 3,
   "outputs": [
    {
     "data": {
      "text/plain": "'\\nX = [[2 1]\\n    [3, 4]]\\n'"
     },
     "metadata": {},
     "output_type": "execute_result",
     "execution_count": 3
    }
   ],
   "source": [
    "# Practice II: Pandas Practice\n",
    "\n",
    "import pandas as pd\n",
    "\n",
    "# Requirement 2.1: Create Dataframe using numpy (using pd.DataFrame()). For example, I want you to create X (2,2)\n",
    "'''\n",
    "X = [[2 1]\n",
    "    [3 4]]\n",
    "Add label ['label1', 'label2']. I need u to create label like this:\n",
    "\n",
    "    label 1    label 2\n",
    "1    2         1\n",
    "2    3         4\n",
    "'''\n",
    "pass  # replace pass with your code here\n",
    "\n",
    "# Requirement 2.2: Please read the dataset I gave you in the attach\n",
    "\n",
    "# show the first 10 rows\n",
    "pass  # replace pass with your code here\n",
    "\n",
    "# And find all the columns with the missing (using data df.isnull().sum(axis=1))\n",
    "pass  # replace pass with your code here\n",
    "\n",
    "# And fill the missing data with mean value using pd.fillna\n",
    "pass  # replace pass with your code here\n",
    "\n",
    "# Do the normalization for the numerical columns\n",
    "pass  # replace pass with your code here\n"
   ],
   "metadata": {
    "collapsed": false,
    "pycharm": {
     "name": "#%%\n",
     "is_executing": false
    }
   }
  },
  {
   "cell_type": "code",
   "execution_count": null,
   "outputs": [],
   "source": [
    "#  Practice III: Matplotlib practice\n",
    "# generate a numpy of X (10, 1), plot sin(X), cos(X), 1/X in a same diagram \n",
    "from matplotlib import pyplot as plt\n",
    "\n",
    "# Please use plt.plot\n",
    "pass  # replace pass with your code here\n",
    "\n",
    "# And you can use plt.scatter to plot the scatter\n",
    "pass  # replace pass with your code here\n",
    "\n",
    "\n"
   ],
   "metadata": {
    "collapsed": false,
    "pycharm": {
     "name": "#%%\n"
    }
   }
  }
 ],
 "metadata": {
  "language_info": {
   "codemirror_mode": {
    "name": "ipython",
    "version": 2
   },
   "file_extension": ".py",
   "mimetype": "text/x-python",
   "name": "python",
   "nbconvert_exporter": "python",
   "pygments_lexer": "ipython2",
   "version": "2.7.6"
  },
  "kernelspec": {
   "name": "python3",
   "language": "python",
   "display_name": "Python 3"
  },
  "pycharm": {
   "stem_cell": {
    "cell_type": "raw",
    "source": [],
    "metadata": {
     "collapsed": false
    }
   }
  }
 },
 "nbformat": 4,
 "nbformat_minor": 0
}